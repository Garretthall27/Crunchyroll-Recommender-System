{
 "cells": [
  {
   "cell_type": "markdown",
   "metadata": {},
   "source": [
    "# Scrape Data From JustWatch"
   ]
  },
  {
   "cell_type": "markdown",
   "metadata": {},
   "source": [
    "## About The Notebook"
   ]
  },
  {
   "cell_type": "markdown",
   "metadata": {},
   "source": [
    ">This notebook uses a third party API to scrape data from [justwatch.com](https://www.justwatch.com/). The GitHub for the API can be found [here](https://github.com/dawoudt/JustWatchAPI). To first use the API you must run the cell below to pip install the JustWatch library. If you have not pip installed it yet, then uncomment the next cell and run it. JustWatch.com has information on all the titles available on the Crunchyroll and Funimation platforms. This notebook makes API calls to retrieve shows and movies for Crunchyroll and Funimation. This notebook uses for loops to make calls to the API so I suggest waiting to run each for loop because you may run into an error with making too many API calls."
   ]
  },
  {
   "cell_type": "code",
   "execution_count": null,
   "metadata": {},
   "outputs": [],
   "source": [
    "# !pip install JustWatch"
   ]
  },
  {
   "cell_type": "code",
   "execution_count": null,
   "metadata": {},
   "outputs": [],
   "source": [
    "# import libraries\n",
    "import pandas as pd\n",
    "import time\n",
    "\n",
    "# import JustWatchAPI\n",
    "from justwatch import JustWatch"
   ]
  },
  {
   "cell_type": "markdown",
   "metadata": {},
   "source": [
    "The cell below instantiates the JustWatch class and sets the country parameter to the United States."
   ]
  },
  {
   "cell_type": "code",
   "execution_count": null,
   "metadata": {},
   "outputs": [],
   "source": [
    "# instantiate JustWatch class\n",
    "just_watch = JustWatch(country='US')"
   ]
  },
  {
   "cell_type": "markdown",
   "metadata": {},
   "source": [
    "## Helper Function"
   ]
  },
  {
   "cell_type": "markdown",
   "metadata": {},
   "source": [
    ">The API returns a dictionary with information pertaining to the title of the show or movie you ask for. I only need certain information from the dictionary the API returns so I created the below function to create a new dictionary based on the information I need from the API dictionary."
   ]
  },
  {
   "cell_type": "code",
   "execution_count": null,
   "metadata": {},
   "outputs": [],
   "source": [
    "def create_show_dict(show_title, show_id):    \n",
    "    # show dictionary\n",
    "    show_dict = {}\n",
    "\n",
    "    # keys and values\n",
    "    show_dict['jw_entity_id'] = show_title['jw_entity_id']\n",
    "    show_dict['id'] = show_title['id']\n",
    "    show_dict['title'] = show_title['title']\n",
    "    \n",
    "    if 'poster' in show_title.keys():\n",
    "        show_dict['poster'] = show_title['poster']\n",
    "    else:\n",
    "        show_dict['poster'] = None\n",
    "    \n",
    "    if 'short_description' in show_title.keys():\n",
    "        show_dict['description'] = show_title['short_description']\n",
    "    else:\n",
    "        show_dict['description'] = None\n",
    "        \n",
    "    if 'original_release_year' in show_title.keys():\n",
    "        show_dict['release_year'] = show_title['original_release_year']\n",
    "    else:\n",
    "        show_dict['release_year'] = None\n",
    "        \n",
    "    show_dict['type'] = show_title['object_type']\n",
    "    show_dict['imdb_popularity'] = None\n",
    "    show_dict['tmdb_popularity'] = None\n",
    "    show_dict['imdb_score'] = None\n",
    "    show_dict['imdb_votes'] = None\n",
    "    show_dict['tmdb_score'] = None\n",
    "    \n",
    "    try:\n",
    "        # runs a loop on scoring to get the proper values\n",
    "        for item in show_title['scoring']:\n",
    "            if item['provider_type'] == 'imdb:popularity':\n",
    "                show_dict['imdb_popularity'] = item['value']\n",
    "\n",
    "            if item['provider_type'] == 'tmdb:popularity':\n",
    "                show_dict['tmdb_popularity'] = item['value']\n",
    "\n",
    "            if item['provider_type'] == 'imdb:score':\n",
    "                show_dict['imdb_score'] = item['value']       \n",
    "\n",
    "            if item['provider_type'] == 'imdb:votes':\n",
    "                show_dict['imdb_votes'] = item['value']\n",
    "\n",
    "            if item['provider_type'] == 'tmdb:score':    \n",
    "                show_dict['tmdb_score'] = item['value']\n",
    "    except:\n",
    "        pass\n",
    "    \n",
    "    show_dict['imdb_id'] = None\n",
    "    show_dict['tmdb_id'] = None\n",
    "\n",
    "    # runs a for loop on external_ids to get the proper values\n",
    "    for item in show_title['external_ids']:\n",
    "        if item['provider'] == 'imdb_latest':\n",
    "            show_dict['imdb_id'] = item['external_id']\n",
    "\n",
    "        if item['provider'] == 'tmdb_latest':\n",
    "            show_dict['tmdb_id'] = item['external_id']\n",
    "            \n",
    "    if 'genre_ids' in show_title.keys():\n",
    "        show_dict['genre_ids'] = show_title['genre_ids']\n",
    "    else:\n",
    "        show_dict['genre_ids'] = None\n",
    "    \n",
    "    # checks if age_certification is in dictionary keys\n",
    "    if 'age_certification' in show_title.keys():\n",
    "        show_dict['age_certification'] = show_title['age_certification']\n",
    "    else:\n",
    "        show_dict['age_certification'] = None\n",
    "        \n",
    "    if 'runtime' in show_title.keys():\n",
    "        show_dict['runtime'] = show_title['runtime']\n",
    "    else:\n",
    "        show_dict['runtime'] = None\n",
    "    \n",
    "    if 'production_countries' in show_title.keys():\n",
    "        show_dict['production_countries'] = show_title['production_countries']\n",
    "    else:\n",
    "        show_dict['production_countries'] = None\n",
    "    \n",
    "    if 'seasons' in show_title.keys():\n",
    "        show_dict['seasons'] = len(show_title['seasons'])\n",
    "    else:\n",
    "        show_dict['seasons'] = 0\n",
    "    \n",
    "    return show_dict"
   ]
  },
  {
   "cell_type": "markdown",
   "metadata": {},
   "source": [
    ">Now I will make API calls through for loops to extract information on shows and movies for Funimation and Crunchyroll. I will first start with Funimation and run shows and movies separately. I will create dataframes for the shows and movies from Funimation and then combine them into one Funimation dataframe. I will do the same thing for the Crunchyroll data. At the end, I will combine the Funimation dataframe with the Crunchyroll dataframe.\n",
    ">\n",
    ">Below are for loops to make the API calls. I have to fun for loops because the `search_for_item` only returns about 30 titles per call on a 'page' with different titles being on different pages. The for loop goes through each page of titles and runs another for loop for item in the page to extract the information needed using the `create_show_dict` function."
   ]
  },
  {
   "cell_type": "markdown",
   "metadata": {},
   "source": [
    "# Get Funimation Shows and Movies"
   ]
  },
  {
   "cell_type": "markdown",
   "metadata": {},
   "source": [
    "### Shows"
   ]
  },
  {
   "cell_type": "markdown",
   "metadata": {},
   "source": [
    "First for loop is for the shows for Funimation."
   ]
  },
  {
   "cell_type": "code",
   "execution_count": null,
   "metadata": {},
   "outputs": [],
   "source": [
    "# for loop to run through each item from provider\n",
    "# place it into a list of dictionaries\n",
    "funimation_shows = []\n",
    "for n in range(1,50):\n",
    "    # runs the loop every 1 seconds\n",
    "    time.sleep(1)\n",
    "    results = just_watch.search_for_item(providers=['fmn'],\n",
    "                                     page=n,\n",
    "                                     content_types=['show'])\n",
    "    \n",
    "    # check if 'items' is empty\n",
    "    if not results['items']:\n",
    "        break\n",
    "    else:\n",
    "        # for loop to run through results['items']\n",
    "        for show in results['items']:\n",
    "\n",
    "            # sets the show id so it can used in the get_title method\n",
    "            show_id = show['id']\n",
    "            show_title = just_watch.get_title(title_id=show_id, content_type='show')\n",
    "\n",
    "            show_dict = create_show_dict(show_title, show_id)\n",
    "\n",
    "            # adds dictionary to show list\n",
    "            funimation_shows.append(show_dict)"
   ]
  },
  {
   "cell_type": "code",
   "execution_count": null,
   "metadata": {},
   "outputs": [],
   "source": [
    "# create a Funimation shows dataframe from the above dictionary\n",
    "fun_shows_df = pd.DataFrame.from_dict(funimation_shows)"
   ]
  },
  {
   "cell_type": "code",
   "execution_count": null,
   "metadata": {},
   "outputs": [],
   "source": [
    "# take a look at the new dataframe\n",
    "fun_shows_df.head(3)"
   ]
  },
  {
   "cell_type": "markdown",
   "metadata": {},
   "source": [
    "### Movies"
   ]
  },
  {
   "cell_type": "markdown",
   "metadata": {},
   "source": [
    "Next for loop is for the movies for Funimation."
   ]
  },
  {
   "cell_type": "code",
   "execution_count": null,
   "metadata": {},
   "outputs": [],
   "source": [
    "# for loop to run through each item from provider\n",
    "# place it into a list of dictionaries\n",
    "funimation_movies = []\n",
    "for n in range(1,50):\n",
    "    # runs the loop every 1 seconds\n",
    "    time.sleep(1)\n",
    "    results = just_watch.search_for_item(providers=['fmn'],\n",
    "                                     page=n,\n",
    "                                     content_types=['movie'])\n",
    "    \n",
    "    # check if 'items' is empty\n",
    "    if not results['items']:\n",
    "        break\n",
    "    else:\n",
    "        # for loop to run through results['items']\n",
    "        for show in results['items']:\n",
    "\n",
    "            # sets the show id so it can used in the get_title method\n",
    "            show_id = show['id']\n",
    "            show_title = just_watch.get_title(title_id=show_id, content_type='movie')\n",
    "\n",
    "            show_dict = create_show_dict(show_title, show_id)\n",
    "\n",
    "            # adds dictionary to show list\n",
    "            funimation_movies.append(show_dict)"
   ]
  },
  {
   "cell_type": "code",
   "execution_count": null,
   "metadata": {},
   "outputs": [],
   "source": [
    "# create a Funimation movies dataframe from the dictionary above\n",
    "fun_movies_df = pd.DataFrame.from_dict(funimation_movies)"
   ]
  },
  {
   "cell_type": "code",
   "execution_count": null,
   "metadata": {},
   "outputs": [],
   "source": [
    "# take a look at the new dataframe\n",
    "fun_movies_df.head(3)"
   ]
  },
  {
   "cell_type": "code",
   "execution_count": null,
   "metadata": {},
   "outputs": [],
   "source": [
    "# combine the two dataframes into one Funimation dataframe\n",
    "funimation_titles = fun_shows_df.append(fun_movies_df)"
   ]
  },
  {
   "cell_type": "code",
   "execution_count": null,
   "metadata": {},
   "outputs": [],
   "source": [
    "# take a look at the shape of the dataframe\n",
    "funimation_titles.shape"
   ]
  },
  {
   "cell_type": "markdown",
   "metadata": {},
   "source": [
    "There are 848 titles in the Funimation dataframe which is the same amount of titles it says on the JustWatch.com website."
   ]
  },
  {
   "cell_type": "code",
   "execution_count": null,
   "metadata": {},
   "outputs": [],
   "source": [
    "# adding streaming_app column to dataframe\n",
    "funimation_titles['streaming_app'] = 'Funimation'"
   ]
  },
  {
   "cell_type": "code",
   "execution_count": null,
   "metadata": {
    "scrolled": true
   },
   "outputs": [],
   "source": [
    "# take a look at the Funimation dataframe\n",
    "funimation_titles.head(3)"
   ]
  },
  {
   "cell_type": "markdown",
   "metadata": {},
   "source": [
    "## Crunchyroll Shows and Movies"
   ]
  },
  {
   "cell_type": "markdown",
   "metadata": {},
   "source": [
    "### Shows"
   ]
  },
  {
   "cell_type": "markdown",
   "metadata": {},
   "source": [
    "First for loop to get the shows for Crunchyroll"
   ]
  },
  {
   "cell_type": "code",
   "execution_count": null,
   "metadata": {},
   "outputs": [],
   "source": [
    "# for loop to run through each item from provider\n",
    "# place it into a list of dictionaries\n",
    "crunchyroll_shows = []\n",
    "for n in range(1,50):\n",
    "    # runs the loop every 1 seconds\n",
    "    time.sleep(2)\n",
    "    results = just_watch.search_for_item(providers=['cru'],\n",
    "                                     page=n,\n",
    "                                     content_types=['show'])\n",
    "    \n",
    "    # check if 'items' is empty\n",
    "    if not results['items']:\n",
    "        break\n",
    "    else:\n",
    "        # for loop to run through results['items']\n",
    "        for show in results['items']:\n",
    "\n",
    "            # sets the show id so it can used in the get_title method\n",
    "            show_id = show['id']\n",
    "            show_title = just_watch.get_title(title_id=show_id, content_type='show')\n",
    "\n",
    "            show_dict = create_show_dict(show_title, show_id)\n",
    "\n",
    "            # adds dictionary to show list\n",
    "            crunchyroll_shows.append(show_dict)"
   ]
  },
  {
   "cell_type": "code",
   "execution_count": null,
   "metadata": {},
   "outputs": [],
   "source": [
    "# create a Crunchyroll shows dataframe from the above dict.\n",
    "crunchyroll_shows_df = pd.DataFrame.from_dict(crunchyroll_shows)"
   ]
  },
  {
   "cell_type": "code",
   "execution_count": null,
   "metadata": {},
   "outputs": [],
   "source": [
    "# look at the shape of the dataframe\n",
    "crunchyroll_shows_df.shape"
   ]
  },
  {
   "cell_type": "code",
   "execution_count": null,
   "metadata": {},
   "outputs": [],
   "source": [
    "# look at the new dataframe\n",
    "crunchyroll_shows_df.head(3)"
   ]
  },
  {
   "cell_type": "markdown",
   "metadata": {},
   "source": [
    "### Movies"
   ]
  },
  {
   "cell_type": "markdown",
   "metadata": {},
   "source": [
    "Next for loop is to get the movies for Crunchyroll."
   ]
  },
  {
   "cell_type": "code",
   "execution_count": null,
   "metadata": {},
   "outputs": [],
   "source": [
    "# for loop to run through each item from provider\n",
    "# place it into a list of dictionaries\n",
    "crunchyroll_movies = []\n",
    "for n in range(1,50):\n",
    "    # runs the loop every 1 seconds\n",
    "    time.sleep(2)\n",
    "    results = just_watch.search_for_item(providers=['cru'],\n",
    "                                     page=n,\n",
    "                                     content_types=['movie'])\n",
    "    \n",
    "    # check if 'items' is empty\n",
    "    if not results['items']:\n",
    "        break\n",
    "    else:\n",
    "        # for loop to run through results['items']\n",
    "        for show in results['items']:\n",
    "\n",
    "            # sets the show id so it can used in the get_title method\n",
    "            show_id = show['id']\n",
    "            show_title = just_watch.get_title(title_id=show_id, content_type='movie')\n",
    "\n",
    "            show_dict = create_show_dict(show_title, show_id)\n",
    "\n",
    "            # adds dictionary to show list\n",
    "            crunchyroll_movies.append(show_dict)"
   ]
  },
  {
   "cell_type": "code",
   "execution_count": null,
   "metadata": {},
   "outputs": [],
   "source": [
    "# create a Crunchyroll movie dataframe from the dictionary above\n",
    "crunchyroll_movies_df = pd.DataFrame(crunchyroll_movies)"
   ]
  },
  {
   "cell_type": "code",
   "execution_count": null,
   "metadata": {},
   "outputs": [],
   "source": [
    "# look at the shape of the dataframe\n",
    "crunchyroll_movies_df.shape"
   ]
  },
  {
   "cell_type": "code",
   "execution_count": null,
   "metadata": {},
   "outputs": [],
   "source": [
    "# combine the movies and shows into one Crunchyroll dataframe\n",
    "crunchyroll_titles = crunchyroll_shows_df.append(crunchyroll_movies_df)"
   ]
  },
  {
   "cell_type": "code",
   "execution_count": null,
   "metadata": {},
   "outputs": [],
   "source": [
    "# look at the shape of the dataframe\n",
    "crunchyroll_titles.shape"
   ]
  },
  {
   "cell_type": "markdown",
   "metadata": {},
   "source": [
    "There are 1,093 titles in the dataframe which is the same amount shown on the JustWatch.com website."
   ]
  },
  {
   "cell_type": "code",
   "execution_count": null,
   "metadata": {},
   "outputs": [],
   "source": [
    "# adding streaming_app column\n",
    "crunchyroll_titles['streaming_app'] = 'Crunchyroll'"
   ]
  },
  {
   "cell_type": "code",
   "execution_count": null,
   "metadata": {},
   "outputs": [],
   "source": [
    "crunchyroll_titles.head(3)"
   ]
  },
  {
   "cell_type": "markdown",
   "metadata": {},
   "source": [
    "## Combing Funimation and Crunchyroll"
   ]
  },
  {
   "cell_type": "markdown",
   "metadata": {},
   "source": [
    ">Finally, I am going to combine the Funimation and Crunchyroll dataframes into one and save it to a csv file. This file will be used to create the recommendation system."
   ]
  },
  {
   "cell_type": "code",
   "execution_count": null,
   "metadata": {},
   "outputs": [],
   "source": [
    "# combine the Funimation and Crunchyroll dataframes\n",
    "titles = funimation_titles.append(crunchyroll_titles)"
   ]
  },
  {
   "cell_type": "code",
   "execution_count": null,
   "metadata": {},
   "outputs": [],
   "source": [
    "# look at the shape of the dataframe\n",
    "titles.shape"
   ]
  },
  {
   "cell_type": "code",
   "execution_count": null,
   "metadata": {},
   "outputs": [],
   "source": [
    "# look at the first few rows of the dataframe\n",
    "titles.head(3)"
   ]
  },
  {
   "cell_type": "code",
   "execution_count": null,
   "metadata": {},
   "outputs": [],
   "source": [
    "# save titles to csv\n",
    "titles.to_csv('./Data/titles.csv')"
   ]
  }
 ],
 "metadata": {
  "kernelspec": {
   "display_name": "Python 3",
   "language": "python",
   "name": "python3"
  },
  "language_info": {
   "codemirror_mode": {
    "name": "ipython",
    "version": 3
   },
   "file_extension": ".py",
   "mimetype": "text/x-python",
   "name": "python",
   "nbconvert_exporter": "python",
   "pygments_lexer": "ipython3",
   "version": "3.8.5"
  }
 },
 "nbformat": 4,
 "nbformat_minor": 4
}
