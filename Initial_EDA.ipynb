{
 "cells": [
  {
   "cell_type": "code",
   "execution_count": 1,
   "metadata": {},
   "outputs": [],
   "source": [
    "# import libraries\n",
    "import pandas as pd"
   ]
  },
  {
   "cell_type": "code",
   "execution_count": 2,
   "metadata": {},
   "outputs": [],
   "source": [
    "# load crunchyroll and funimation \n",
    "crunch_df = pd.read_csv('./data/crunchyroll_titles.csv')\n",
    "fun_df = pd.read_csv('./data/funimation_titles.csv')"
   ]
  },
  {
   "cell_type": "code",
   "execution_count": 3,
   "metadata": {},
   "outputs": [
    {
     "data": {
      "text/html": [
       "<div>\n",
       "<style scoped>\n",
       "    .dataframe tbody tr th:only-of-type {\n",
       "        vertical-align: middle;\n",
       "    }\n",
       "\n",
       "    .dataframe tbody tr th {\n",
       "        vertical-align: top;\n",
       "    }\n",
       "\n",
       "    .dataframe thead th {\n",
       "        text-align: right;\n",
       "    }\n",
       "</style>\n",
       "<table border=\"1\" class=\"dataframe\">\n",
       "  <thead>\n",
       "    <tr style=\"text-align: right;\">\n",
       "      <th></th>\n",
       "      <th>id</th>\n",
       "      <th>title</th>\n",
       "      <th>type</th>\n",
       "      <th>description</th>\n",
       "      <th>release_year</th>\n",
       "      <th>age_certification</th>\n",
       "      <th>runtime</th>\n",
       "      <th>genres</th>\n",
       "      <th>production_countries</th>\n",
       "      <th>seasons</th>\n",
       "      <th>imdb_id</th>\n",
       "      <th>imdb_score</th>\n",
       "      <th>imdb_votes</th>\n",
       "      <th>tmdb_popularity</th>\n",
       "      <th>tmdb_score</th>\n",
       "    </tr>\n",
       "  </thead>\n",
       "  <tbody>\n",
       "    <tr>\n",
       "      <th>0</th>\n",
       "      <td>ts21930</td>\n",
       "      <td>Lupin the Third</td>\n",
       "      <td>SHOW</td>\n",
       "      <td>Arsene Lupin III is the grandson of the master...</td>\n",
       "      <td>1971</td>\n",
       "      <td>TV-14</td>\n",
       "      <td>23</td>\n",
       "      <td>['scifi', 'animation', 'action', 'comedy', 'cr...</td>\n",
       "      <td>['JP']</td>\n",
       "      <td>6.0</td>\n",
       "      <td>tt0159175</td>\n",
       "      <td>7.9</td>\n",
       "      <td>2116.0</td>\n",
       "      <td>45.829</td>\n",
       "      <td>8.0</td>\n",
       "    </tr>\n",
       "    <tr>\n",
       "      <th>1</th>\n",
       "      <td>ts25177</td>\n",
       "      <td>Mobile Suit Gundam</td>\n",
       "      <td>SHOW</td>\n",
       "      <td>Mobile Suit Gundam is a televised anime series...</td>\n",
       "      <td>1979</td>\n",
       "      <td>TV-Y7</td>\n",
       "      <td>25</td>\n",
       "      <td>['scifi', 'war', 'animation', 'action', 'drama...</td>\n",
       "      <td>['JP']</td>\n",
       "      <td>1.0</td>\n",
       "      <td>tt0159172</td>\n",
       "      <td>7.9</td>\n",
       "      <td>2281.0</td>\n",
       "      <td>41.250</td>\n",
       "      <td>8.1</td>\n",
       "    </tr>\n",
       "    <tr>\n",
       "      <th>2</th>\n",
       "      <td>ts35087</td>\n",
       "      <td>Galaxy Express 999</td>\n",
       "      <td>SHOW</td>\n",
       "      <td>Galaxy Express 999 is a manga written and draw...</td>\n",
       "      <td>1978</td>\n",
       "      <td>TV-PG</td>\n",
       "      <td>24</td>\n",
       "      <td>['scifi', 'action', 'drama', 'animation']</td>\n",
       "      <td>['JP']</td>\n",
       "      <td>1.0</td>\n",
       "      <td>tt0185066</td>\n",
       "      <td>7.8</td>\n",
       "      <td>459.0</td>\n",
       "      <td>5.064</td>\n",
       "      <td>8.3</td>\n",
       "    </tr>\n",
       "    <tr>\n",
       "      <th>3</th>\n",
       "      <td>ts82387</td>\n",
       "      <td>Lupin the 3rd</td>\n",
       "      <td>SHOW</td>\n",
       "      <td>The master thief Lupin III and his cronies con...</td>\n",
       "      <td>1977</td>\n",
       "      <td>TV-14</td>\n",
       "      <td>24</td>\n",
       "      <td>['scifi', 'animation', 'action', 'comedy', 'cr...</td>\n",
       "      <td>['JP']</td>\n",
       "      <td>4.0</td>\n",
       "      <td>tt0159192</td>\n",
       "      <td>8.0</td>\n",
       "      <td>1738.0</td>\n",
       "      <td>0.600</td>\n",
       "      <td>NaN</td>\n",
       "    </tr>\n",
       "    <tr>\n",
       "      <th>4</th>\n",
       "      <td>ts2846</td>\n",
       "      <td>Chōdenji Machine Voltes V</td>\n",
       "      <td>SHOW</td>\n",
       "      <td>Chōdenji Machine Voltes V is a Japanese anime ...</td>\n",
       "      <td>1977</td>\n",
       "      <td>TV-PG</td>\n",
       "      <td>24</td>\n",
       "      <td>['drama', 'action', 'scifi', 'animation']</td>\n",
       "      <td>['JP']</td>\n",
       "      <td>1.0</td>\n",
       "      <td>tt0159855</td>\n",
       "      <td>8.1</td>\n",
       "      <td>207.0</td>\n",
       "      <td>12.625</td>\n",
       "      <td>7.3</td>\n",
       "    </tr>\n",
       "  </tbody>\n",
       "</table>\n",
       "</div>"
      ],
      "text/plain": [
       "        id                      title  type  \\\n",
       "0  ts21930            Lupin the Third  SHOW   \n",
       "1  ts25177         Mobile Suit Gundam  SHOW   \n",
       "2  ts35087         Galaxy Express 999  SHOW   \n",
       "3  ts82387              Lupin the 3rd  SHOW   \n",
       "4   ts2846  Chōdenji Machine Voltes V  SHOW   \n",
       "\n",
       "                                         description  release_year  \\\n",
       "0  Arsene Lupin III is the grandson of the master...          1971   \n",
       "1  Mobile Suit Gundam is a televised anime series...          1979   \n",
       "2  Galaxy Express 999 is a manga written and draw...          1978   \n",
       "3  The master thief Lupin III and his cronies con...          1977   \n",
       "4  Chōdenji Machine Voltes V is a Japanese anime ...          1977   \n",
       "\n",
       "  age_certification  runtime  \\\n",
       "0             TV-14       23   \n",
       "1             TV-Y7       25   \n",
       "2             TV-PG       24   \n",
       "3             TV-14       24   \n",
       "4             TV-PG       24   \n",
       "\n",
       "                                              genres production_countries  \\\n",
       "0  ['scifi', 'animation', 'action', 'comedy', 'cr...               ['JP']   \n",
       "1  ['scifi', 'war', 'animation', 'action', 'drama...               ['JP']   \n",
       "2          ['scifi', 'action', 'drama', 'animation']               ['JP']   \n",
       "3  ['scifi', 'animation', 'action', 'comedy', 'cr...               ['JP']   \n",
       "4          ['drama', 'action', 'scifi', 'animation']               ['JP']   \n",
       "\n",
       "   seasons    imdb_id  imdb_score  imdb_votes  tmdb_popularity  tmdb_score  \n",
       "0      6.0  tt0159175         7.9      2116.0           45.829         8.0  \n",
       "1      1.0  tt0159172         7.9      2281.0           41.250         8.1  \n",
       "2      1.0  tt0185066         7.8       459.0            5.064         8.3  \n",
       "3      4.0  tt0159192         8.0      1738.0            0.600         NaN  \n",
       "4      1.0  tt0159855         8.1       207.0           12.625         7.3  "
      ]
     },
     "execution_count": 3,
     "metadata": {},
     "output_type": "execute_result"
    }
   ],
   "source": [
    "crunch_df.head()"
   ]
  },
  {
   "cell_type": "code",
   "execution_count": 44,
   "metadata": {},
   "outputs": [
    {
     "data": {
      "text/plain": [
       "Index(['id', 'title', 'type', 'description', 'release_year',\n",
       "       'age_certification', 'runtime', 'genres', 'production_countries',\n",
       "       'seasons', 'imdb_id', 'imdb_score', 'imdb_votes', 'tmdb_popularity',\n",
       "       'tmdb_score', 'app'],\n",
       "      dtype='object')"
      ]
     },
     "execution_count": 44,
     "metadata": {},
     "output_type": "execute_result"
    }
   ],
   "source": [
    "crunch_df.columns"
   ]
  },
  {
   "cell_type": "code",
   "execution_count": 4,
   "metadata": {},
   "outputs": [
    {
     "data": {
      "text/html": [
       "<div>\n",
       "<style scoped>\n",
       "    .dataframe tbody tr th:only-of-type {\n",
       "        vertical-align: middle;\n",
       "    }\n",
       "\n",
       "    .dataframe tbody tr th {\n",
       "        vertical-align: top;\n",
       "    }\n",
       "\n",
       "    .dataframe thead th {\n",
       "        text-align: right;\n",
       "    }\n",
       "</style>\n",
       "<table border=\"1\" class=\"dataframe\">\n",
       "  <thead>\n",
       "    <tr style=\"text-align: right;\">\n",
       "      <th></th>\n",
       "      <th>id</th>\n",
       "      <th>title</th>\n",
       "      <th>type</th>\n",
       "      <th>description</th>\n",
       "      <th>release_year</th>\n",
       "      <th>age_certification</th>\n",
       "      <th>runtime</th>\n",
       "      <th>genres</th>\n",
       "      <th>production_countries</th>\n",
       "      <th>seasons</th>\n",
       "      <th>imdb_id</th>\n",
       "      <th>imdb_score</th>\n",
       "      <th>imdb_votes</th>\n",
       "      <th>tmdb_popularity</th>\n",
       "      <th>tmdb_score</th>\n",
       "    </tr>\n",
       "  </thead>\n",
       "  <tbody>\n",
       "    <tr>\n",
       "      <th>0</th>\n",
       "      <td>ts25177</td>\n",
       "      <td>Mobile Suit Gundam</td>\n",
       "      <td>SHOW</td>\n",
       "      <td>Mobile Suit Gundam is a televised anime series...</td>\n",
       "      <td>1979</td>\n",
       "      <td>TV-Y7</td>\n",
       "      <td>25</td>\n",
       "      <td>['scifi', 'war', 'animation', 'action', 'drama...</td>\n",
       "      <td>['JP']</td>\n",
       "      <td>1.0</td>\n",
       "      <td>tt0159172</td>\n",
       "      <td>7.9</td>\n",
       "      <td>2281.0</td>\n",
       "      <td>41.250</td>\n",
       "      <td>8.1</td>\n",
       "    </tr>\n",
       "    <tr>\n",
       "      <th>1</th>\n",
       "      <td>ts20740</td>\n",
       "      <td>Dragon Ball Z</td>\n",
       "      <td>SHOW</td>\n",
       "      <td>Dragon Ball Z is a Japanese animated televisio...</td>\n",
       "      <td>1989</td>\n",
       "      <td>TV-PG</td>\n",
       "      <td>24</td>\n",
       "      <td>['scifi', 'action', 'animation', 'comedy', 'fa...</td>\n",
       "      <td>['JP']</td>\n",
       "      <td>16.0</td>\n",
       "      <td>tt0121220</td>\n",
       "      <td>8.8</td>\n",
       "      <td>125554.0</td>\n",
       "      <td>389.990</td>\n",
       "      <td>8.2</td>\n",
       "    </tr>\n",
       "    <tr>\n",
       "      <th>2</th>\n",
       "      <td>tm44887</td>\n",
       "      <td>Akira</td>\n",
       "      <td>MOVIE</td>\n",
       "      <td>A secret military project endangers Neo-Tokyo ...</td>\n",
       "      <td>1988</td>\n",
       "      <td>R</td>\n",
       "      <td>124</td>\n",
       "      <td>['scifi', 'action', 'drama', 'animation', 'fan...</td>\n",
       "      <td>['JP']</td>\n",
       "      <td>NaN</td>\n",
       "      <td>tt0094625</td>\n",
       "      <td>8.0</td>\n",
       "      <td>181098.0</td>\n",
       "      <td>45.959</td>\n",
       "      <td>8.0</td>\n",
       "    </tr>\n",
       "    <tr>\n",
       "      <th>3</th>\n",
       "      <td>ts28221</td>\n",
       "      <td>Robotech</td>\n",
       "      <td>SHOW</td>\n",
       "      <td>Robotech is an 85-episode adaptation of three ...</td>\n",
       "      <td>1985</td>\n",
       "      <td>NaN</td>\n",
       "      <td>24</td>\n",
       "      <td>['scifi', 'animation', 'action']</td>\n",
       "      <td>['US']</td>\n",
       "      <td>3.0</td>\n",
       "      <td>tt0088595</td>\n",
       "      <td>8.5</td>\n",
       "      <td>3630.0</td>\n",
       "      <td>16.833</td>\n",
       "      <td>8.7</td>\n",
       "    </tr>\n",
       "    <tr>\n",
       "      <th>4</th>\n",
       "      <td>ts20738</td>\n",
       "      <td>Ranma ½</td>\n",
       "      <td>SHOW</td>\n",
       "      <td>Saotome Ranma, a teenage martial artist, and h...</td>\n",
       "      <td>1989</td>\n",
       "      <td>TV-14</td>\n",
       "      <td>24</td>\n",
       "      <td>['scifi', 'action', 'romance', 'animation', 'c...</td>\n",
       "      <td>['JP']</td>\n",
       "      <td>7.0</td>\n",
       "      <td>tt0096686</td>\n",
       "      <td>8.2</td>\n",
       "      <td>1508.0</td>\n",
       "      <td>65.102</td>\n",
       "      <td>8.7</td>\n",
       "    </tr>\n",
       "  </tbody>\n",
       "</table>\n",
       "</div>"
      ],
      "text/plain": [
       "        id               title   type  \\\n",
       "0  ts25177  Mobile Suit Gundam   SHOW   \n",
       "1  ts20740       Dragon Ball Z   SHOW   \n",
       "2  tm44887               Akira  MOVIE   \n",
       "3  ts28221            Robotech   SHOW   \n",
       "4  ts20738             Ranma ½   SHOW   \n",
       "\n",
       "                                         description  release_year  \\\n",
       "0  Mobile Suit Gundam is a televised anime series...          1979   \n",
       "1  Dragon Ball Z is a Japanese animated televisio...          1989   \n",
       "2  A secret military project endangers Neo-Tokyo ...          1988   \n",
       "3  Robotech is an 85-episode adaptation of three ...          1985   \n",
       "4  Saotome Ranma, a teenage martial artist, and h...          1989   \n",
       "\n",
       "  age_certification  runtime  \\\n",
       "0             TV-Y7       25   \n",
       "1             TV-PG       24   \n",
       "2                 R      124   \n",
       "3               NaN       24   \n",
       "4             TV-14       24   \n",
       "\n",
       "                                              genres production_countries  \\\n",
       "0  ['scifi', 'war', 'animation', 'action', 'drama...               ['JP']   \n",
       "1  ['scifi', 'action', 'animation', 'comedy', 'fa...               ['JP']   \n",
       "2  ['scifi', 'action', 'drama', 'animation', 'fan...               ['JP']   \n",
       "3                   ['scifi', 'animation', 'action']               ['US']   \n",
       "4  ['scifi', 'action', 'romance', 'animation', 'c...               ['JP']   \n",
       "\n",
       "   seasons    imdb_id  imdb_score  imdb_votes  tmdb_popularity  tmdb_score  \n",
       "0      1.0  tt0159172         7.9      2281.0           41.250         8.1  \n",
       "1     16.0  tt0121220         8.8    125554.0          389.990         8.2  \n",
       "2      NaN  tt0094625         8.0    181098.0           45.959         8.0  \n",
       "3      3.0  tt0088595         8.5      3630.0           16.833         8.7  \n",
       "4      7.0  tt0096686         8.2      1508.0           65.102         8.7  "
      ]
     },
     "execution_count": 4,
     "metadata": {},
     "output_type": "execute_result"
    }
   ],
   "source": [
    "fun_df.head()"
   ]
  },
  {
   "cell_type": "code",
   "execution_count": 40,
   "metadata": {},
   "outputs": [
    {
     "data": {
      "text/html": [
       "<div>\n",
       "<style scoped>\n",
       "    .dataframe tbody tr th:only-of-type {\n",
       "        vertical-align: middle;\n",
       "    }\n",
       "\n",
       "    .dataframe tbody tr th {\n",
       "        vertical-align: top;\n",
       "    }\n",
       "\n",
       "    .dataframe thead th {\n",
       "        text-align: right;\n",
       "    }\n",
       "</style>\n",
       "<table border=\"1\" class=\"dataframe\">\n",
       "  <thead>\n",
       "    <tr style=\"text-align: right;\">\n",
       "      <th></th>\n",
       "      <th>id</th>\n",
       "      <th>title</th>\n",
       "      <th>type</th>\n",
       "      <th>description</th>\n",
       "      <th>release_year</th>\n",
       "      <th>age_certification</th>\n",
       "      <th>runtime</th>\n",
       "      <th>genres</th>\n",
       "      <th>production_countries</th>\n",
       "      <th>seasons</th>\n",
       "      <th>imdb_id</th>\n",
       "      <th>imdb_score</th>\n",
       "      <th>imdb_votes</th>\n",
       "      <th>tmdb_popularity</th>\n",
       "      <th>tmdb_score</th>\n",
       "      <th>app</th>\n",
       "    </tr>\n",
       "  </thead>\n",
       "  <tbody>\n",
       "    <tr>\n",
       "      <th>212</th>\n",
       "      <td>ts20682</td>\n",
       "      <td>Attack on Titan</td>\n",
       "      <td>SHOW</td>\n",
       "      <td>Several hundred years ago, humans were nearly ...</td>\n",
       "      <td>2013</td>\n",
       "      <td>TV-MA</td>\n",
       "      <td>24</td>\n",
       "      <td>['scifi', 'action', 'drama', 'fantasy', 'horro...</td>\n",
       "      <td>['JP']</td>\n",
       "      <td>4.0</td>\n",
       "      <td>tt2560140</td>\n",
       "      <td>9.0</td>\n",
       "      <td>325381.0</td>\n",
       "      <td>139.388</td>\n",
       "      <td>8.6</td>\n",
       "      <td>Funimation</td>\n",
       "    </tr>\n",
       "  </tbody>\n",
       "</table>\n",
       "</div>"
      ],
      "text/plain": [
       "          id            title  type  \\\n",
       "212  ts20682  Attack on Titan  SHOW   \n",
       "\n",
       "                                           description  release_year  \\\n",
       "212  Several hundred years ago, humans were nearly ...          2013   \n",
       "\n",
       "    age_certification  runtime  \\\n",
       "212             TV-MA       24   \n",
       "\n",
       "                                                genres production_countries  \\\n",
       "212  ['scifi', 'action', 'drama', 'fantasy', 'horro...               ['JP']   \n",
       "\n",
       "     seasons    imdb_id  imdb_score  imdb_votes  tmdb_popularity  tmdb_score  \\\n",
       "212      4.0  tt2560140         9.0    325381.0          139.388         8.6   \n",
       "\n",
       "            app  \n",
       "212  Funimation  "
      ]
     },
     "execution_count": 40,
     "metadata": {},
     "output_type": "execute_result"
    }
   ],
   "source": [
    "fun_df.loc[fun_df['title'] == 'Attack on Titan']"
   ]
  },
  {
   "cell_type": "code",
   "execution_count": 41,
   "metadata": {},
   "outputs": [
    {
     "data": {
      "text/html": [
       "<div>\n",
       "<style scoped>\n",
       "    .dataframe tbody tr th:only-of-type {\n",
       "        vertical-align: middle;\n",
       "    }\n",
       "\n",
       "    .dataframe tbody tr th {\n",
       "        vertical-align: top;\n",
       "    }\n",
       "\n",
       "    .dataframe thead th {\n",
       "        text-align: right;\n",
       "    }\n",
       "</style>\n",
       "<table border=\"1\" class=\"dataframe\">\n",
       "  <thead>\n",
       "    <tr style=\"text-align: right;\">\n",
       "      <th></th>\n",
       "      <th>id</th>\n",
       "      <th>title</th>\n",
       "      <th>type</th>\n",
       "      <th>description</th>\n",
       "      <th>release_year</th>\n",
       "      <th>age_certification</th>\n",
       "      <th>runtime</th>\n",
       "      <th>genres</th>\n",
       "      <th>production_countries</th>\n",
       "      <th>seasons</th>\n",
       "      <th>imdb_id</th>\n",
       "      <th>imdb_score</th>\n",
       "      <th>imdb_votes</th>\n",
       "      <th>tmdb_popularity</th>\n",
       "      <th>tmdb_score</th>\n",
       "      <th>app</th>\n",
       "    </tr>\n",
       "  </thead>\n",
       "  <tbody>\n",
       "    <tr>\n",
       "      <th>316</th>\n",
       "      <td>ts20682</td>\n",
       "      <td>Attack on Titan</td>\n",
       "      <td>SHOW</td>\n",
       "      <td>Several hundred years ago, humans were nearly ...</td>\n",
       "      <td>2013</td>\n",
       "      <td>TV-MA</td>\n",
       "      <td>24</td>\n",
       "      <td>['scifi', 'action', 'drama', 'fantasy', 'horro...</td>\n",
       "      <td>['JP']</td>\n",
       "      <td>4.0</td>\n",
       "      <td>tt2560140</td>\n",
       "      <td>9.0</td>\n",
       "      <td>325381.0</td>\n",
       "      <td>139.388</td>\n",
       "      <td>8.6</td>\n",
       "      <td>Crunchyroll</td>\n",
       "    </tr>\n",
       "  </tbody>\n",
       "</table>\n",
       "</div>"
      ],
      "text/plain": [
       "          id            title  type  \\\n",
       "316  ts20682  Attack on Titan  SHOW   \n",
       "\n",
       "                                           description  release_year  \\\n",
       "316  Several hundred years ago, humans were nearly ...          2013   \n",
       "\n",
       "    age_certification  runtime  \\\n",
       "316             TV-MA       24   \n",
       "\n",
       "                                                genres production_countries  \\\n",
       "316  ['scifi', 'action', 'drama', 'fantasy', 'horro...               ['JP']   \n",
       "\n",
       "     seasons    imdb_id  imdb_score  imdb_votes  tmdb_popularity  tmdb_score  \\\n",
       "316      4.0  tt2560140         9.0    325381.0          139.388         8.6   \n",
       "\n",
       "             app  \n",
       "316  Crunchyroll  "
      ]
     },
     "execution_count": 41,
     "metadata": {},
     "output_type": "execute_result"
    }
   ],
   "source": [
    "crunch_df.loc[crunch_df['title'] == 'Attack on Titan']"
   ]
  },
  {
   "cell_type": "code",
   "execution_count": 15,
   "metadata": {},
   "outputs": [
    {
     "data": {
      "text/plain": [
       "((1081, 15), (583, 15))"
      ]
     },
     "execution_count": 15,
     "metadata": {},
     "output_type": "execute_result"
    }
   ],
   "source": [
    "crunch_df.shape, fun_df.shape"
   ]
  },
  {
   "cell_type": "code",
   "execution_count": 17,
   "metadata": {},
   "outputs": [],
   "source": [
    "crunch_df['app'] = 'Crunchyroll'"
   ]
  },
  {
   "cell_type": "code",
   "execution_count": 18,
   "metadata": {},
   "outputs": [],
   "source": [
    "fun_df['app'] = 'Funimation'"
   ]
  },
  {
   "cell_type": "code",
   "execution_count": 20,
   "metadata": {},
   "outputs": [],
   "source": [
    "titles = pd.concat((crunch_df, fun_df))"
   ]
  },
  {
   "cell_type": "code",
   "execution_count": 21,
   "metadata": {},
   "outputs": [
    {
     "data": {
      "text/plain": [
       "SHOW     1615\n",
       "MOVIE      49\n",
       "Name: type, dtype: int64"
      ]
     },
     "execution_count": 21,
     "metadata": {},
     "output_type": "execute_result"
    }
   ],
   "source": [
    "titles.type.value_counts()"
   ]
  },
  {
   "cell_type": "code",
   "execution_count": 43,
   "metadata": {},
   "outputs": [
    {
     "data": {
      "text/plain": [
       "['JP']                1580\n",
       "[]                      31\n",
       "['US']                  21\n",
       "['JP', 'US']             6\n",
       "['CN']                   5\n",
       "['XX']                   4\n",
       "['CN', 'JP']             2\n",
       "['JP', 'CN']             2\n",
       "['GB']                   2\n",
       "['AL']                   1\n",
       "['BR']                   1\n",
       "['MX']                   1\n",
       "['JP', 'TW']             1\n",
       "['KR']                   1\n",
       "['CA']                   1\n",
       "['CN', 'HK']             1\n",
       "['FR']                   1\n",
       "['JP', 'CA', 'US']       1\n",
       "['NL']                   1\n",
       "['CZ', 'FR']             1\n",
       "Name: production_countries, dtype: int64"
      ]
     },
     "execution_count": 43,
     "metadata": {},
     "output_type": "execute_result"
    }
   ],
   "source": [
    "titles.production_countries.value_counts()"
   ]
  },
  {
   "cell_type": "code",
   "execution_count": 32,
   "metadata": {},
   "outputs": [
    {
     "data": {
      "text/plain": [
       "0"
      ]
     },
     "execution_count": 32,
     "metadata": {},
     "output_type": "execute_result"
    }
   ],
   "source": [
    "fun_df.duplicated().sum()"
   ]
  },
  {
   "cell_type": "code",
   "execution_count": 34,
   "metadata": {},
   "outputs": [
    {
     "data": {
      "text/plain": [
       "192"
      ]
     },
     "execution_count": 34,
     "metadata": {},
     "output_type": "execute_result"
    }
   ],
   "source": [
    "titles.drop(columns=['app']).duplicated().sum()"
   ]
  },
  {
   "cell_type": "code",
   "execution_count": 36,
   "metadata": {},
   "outputs": [
    {
     "data": {
      "text/plain": [
       "420"
      ]
     },
     "execution_count": 36,
     "metadata": {},
     "output_type": "execute_result"
    }
   ],
   "source": [
    "titles['imdb_id'].duplicated().sum()"
   ]
  },
  {
   "cell_type": "code",
   "execution_count": 47,
   "metadata": {},
   "outputs": [
    {
     "data": {
      "text/plain": [
       "(1081, 16)"
      ]
     },
     "execution_count": 47,
     "metadata": {},
     "output_type": "execute_result"
    }
   ],
   "source": [
    "crunch_df.shape"
   ]
  },
  {
   "cell_type": "code",
   "execution_count": 38,
   "metadata": {},
   "outputs": [
    {
     "data": {
      "text/plain": [
       "id                        0\n",
       "title                     0\n",
       "type                      0\n",
       "description              31\n",
       "release_year              0\n",
       "age_certification       331\n",
       "runtime                   0\n",
       "genres                    0\n",
       "production_countries      0\n",
       "seasons                   1\n",
       "imdb_id                 154\n",
       "imdb_score              174\n",
       "imdb_votes              174\n",
       "tmdb_popularity          13\n",
       "tmdb_score               75\n",
       "app                       0\n",
       "dtype: int64"
      ]
     },
     "execution_count": 38,
     "metadata": {},
     "output_type": "execute_result"
    }
   ],
   "source": [
    "crunch_df.isna().sum()"
   ]
  },
  {
   "cell_type": "code",
   "execution_count": 39,
   "metadata": {},
   "outputs": [
    {
     "data": {
      "text/plain": [
       "id                       0\n",
       "title                    0\n",
       "type                     0\n",
       "description              5\n",
       "release_year             0\n",
       "age_certification       78\n",
       "runtime                  0\n",
       "genres                   0\n",
       "production_countries     0\n",
       "seasons                 48\n",
       "imdb_id                 61\n",
       "imdb_score              64\n",
       "imdb_votes              64\n",
       "tmdb_popularity          6\n",
       "tmdb_score              20\n",
       "app                      0\n",
       "dtype: int64"
      ]
     },
     "execution_count": 39,
     "metadata": {},
     "output_type": "execute_result"
    }
   ],
   "source": [
    "fun_df.isna().sum()"
   ]
  },
  {
   "cell_type": "code",
   "execution_count": 37,
   "metadata": {},
   "outputs": [
    {
     "data": {
      "text/plain": [
       "id                        0\n",
       "title                     0\n",
       "type                      0\n",
       "description              36\n",
       "release_year              0\n",
       "age_certification       409\n",
       "runtime                   0\n",
       "genres                    0\n",
       "production_countries      0\n",
       "seasons                  49\n",
       "imdb_id                 215\n",
       "imdb_score              238\n",
       "imdb_votes              238\n",
       "tmdb_popularity          19\n",
       "tmdb_score               95\n",
       "app                       0\n",
       "dtype: int64"
      ]
     },
     "execution_count": 37,
     "metadata": {},
     "output_type": "execute_result"
    }
   ],
   "source": [
    "titles.isna().sum()"
   ]
  },
  {
   "cell_type": "code",
   "execution_count": 46,
   "metadata": {},
   "outputs": [
    {
     "data": {
      "text/plain": [
       "id                       0\n",
       "title                    0\n",
       "type                     0\n",
       "description              0\n",
       "release_year             0\n",
       "age_certification       27\n",
       "runtime                  0\n",
       "genres                   0\n",
       "production_countries     0\n",
       "seasons                 49\n",
       "imdb_id                  3\n",
       "imdb_score               4\n",
       "imdb_votes               4\n",
       "tmdb_popularity          0\n",
       "tmdb_score               2\n",
       "app                      0\n",
       "dtype: int64"
      ]
     },
     "execution_count": 46,
     "metadata": {},
     "output_type": "execute_result"
    }
   ],
   "source": [
    "titles.loc[titles['type'] == 'MOVIE'].sort_values('id').isna().sum()"
   ]
  }
 ],
 "metadata": {
  "kernelspec": {
   "display_name": "Python (learn-env)",
   "language": "python",
   "name": "learn-env"
  },
  "language_info": {
   "codemirror_mode": {
    "name": "ipython",
    "version": 3
   },
   "file_extension": ".py",
   "mimetype": "text/x-python",
   "name": "python",
   "nbconvert_exporter": "python",
   "pygments_lexer": "ipython3",
   "version": "3.8.5"
  }
 },
 "nbformat": 4,
 "nbformat_minor": 4
}
